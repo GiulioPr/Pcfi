{
 "cells": [
  {
   "cell_type": "markdown",
   "metadata": {},
   "source": [
    "## Feature Ranking Methods Comparison\n",
    "\n",
    "Using several dataset downloaded from the UC Irvine Machine Learning Repository (https://archive.ics.uci.edu/) we compare three feature ranking methods for decision tree-based classifiers:\n",
    "* The default (or \"global\") feature importance;\n",
    "* SHAP values;\n",
    "* Our PCFI.\n",
    "\n",
    "To do so, we first preprocess each dataset and fit a Random Forest Classifier via GridSearchCV.\n",
    "Then we select the top features ranked after each method (which are printed on screen), and refit the Random Forest model (using the same parameters from the GridSearchCV). Finally, the methods are compared based on the accuracy of the refitted model.\n",
    "\n",
    "Similarly, we also compare SHAP and PCFI methods when selecting for top features that are most important to the rare class in the dataset (this is not possible with global feature importance). The only difference is that methods are scored with the f1_score on the rare class."
   ]
  },
  {
   "cell_type": "markdown",
   "metadata": {},
   "source": [
    "#### Results\n",
    "\n",
    "SAHP and PCFI are very similar, and none emerges as clearly better than the other.\n",
    "\n",
    "When ranking features globally, out of 9 dataset, PCFI outperforms SHAP 3 times and the conversely is true in 2 cases the global ranking.\n",
    "\n",
    "When comparing the ranking methods biased in favour of the rare class, instead, each method outperforms the other once. \n"
   ]
  },
  {
   "cell_type": "code",
   "execution_count": 8,
   "metadata": {},
   "outputs": [],
   "source": [
    "# import custom functions and libraries\n",
    "%run def_functions.py\n",
    "\n",
    "proj_path = os.path.dirname(os.getcwd())\n",
    "datasets = []"
   ]
  },
  {
   "cell_type": "markdown",
   "metadata": {},
   "source": [
    "#### Dermatology dataset"
   ]
  },
  {
   "cell_type": "code",
   "execution_count": 11,
   "metadata": {},
   "outputs": [
    {
     "name": "stdout",
     "output_type": "stream",
     "text": [
      "Is the dataset balanced? False\n",
      "Classes and counts: [1 2 3 4 5 6] [111  60  71  48  48  20]\n",
      "Classes count in train: (array([1, 2, 3, 4, 5, 6]), array([80, 46, 58, 34, 36, 14]))\n",
      "Classes count in test: (array([1, 2, 3, 4, 5, 6]), array([31, 14, 13, 14, 12,  6]))\n",
      "Best score: 0.9776001512352437\n",
      "Model performances:\n",
      "Accuracy: 98.89\n"
     ]
    },
    {
     "name": "stderr",
     "output_type": "stream",
     "text": [
      "Setting feature_perturbation = \"tree_path_dependent\" because no background data was given.\n"
     ]
    },
    {
     "name": "stdout",
     "output_type": "stream",
     "text": [
      "Do y and y_train have same rare class? True\n",
      "Method top selected features:\n",
      "Global:  ['Clubbing of the rete ridges' 'Thinning of the suprapapillary epidermis'\n",
      " 'Fibrosis of the papillary dermis']\n",
      "Shap:  ['Clubbing of the rete ridges' 'Elongation of the rete ridges'\n",
      " 'Thinning of the suprapapillary epidermis']\n",
      "Pcfi:  ['Fibrosis of the papillary dermis' 'Clubbing of the rete ridges'\n",
      " 'Koebner phenomenon']\n",
      "Rare class Shap:  ['Perifollicular parakeratosis' 'Follicular horn plug'\n",
      " 'Follicular papules']\n",
      "Rare class Pcfi:  ['Perifollicular parakeratosis' 'Follicular horn plug'\n",
      " 'Follicular papules']\n",
      "\n",
      "\n",
      "Feature ranking method accuracy:\n",
      "Global 63.33\n",
      "Shap 60.0\n",
      "Pcfi 76.67\n",
      "Feature ranking method f1_score for rare class\n",
      "Rare Shap 100.0\n",
      "Rare Pfci 100.0\n"
     ]
    }
   ],
   "source": [
    "col_names = np.array([\n",
    "    'erythema', 'scaling', 'definite borders',\n",
    "    'itching', 'koebner phenomenon', 'polygonal papules',\n",
    "    'follicular papules', 'oral mucosal involvement', 'knee and elbow involvement',\n",
    "    'scalp involvement', 'family history', 'melanin incontinence',\n",
    "    'eosinophils in the infiltrate', 'PNL infiltrate', 'fibrosis of the papillary dermis',\n",
    "    'exocytosis', 'acanthosis', 'hyperkeratosis',\n",
    "    'parakeratosis', 'clubbing of the rete ridges', 'elongation of the rete ridges',\n",
    "    'thinning of the suprapapillary epidermis', 'spongiform pustule', 'munro microabcess',\n",
    "    'focal hypergranulosis', 'disappearance of the granular layer',\n",
    "    'vacuolisation and damage of basal layer',\n",
    "    'spongiosis', 'saw-tooth appearance of retes', 'follicular horn plug',\n",
    "    'perifollicular parakeratosis', 'inflammatory monoluclear inflitrate',\n",
    "    'band-like infiltrate',\n",
    "    'Age', 'Class'\n",
    "])\n",
    "col_names = np.array([lab.capitalize() for lab in col_names])\n",
    "feature_names = np.array(col_names[:-1])\n",
    "class_col = col_names[-1]\n",
    "class_names = np.array(['psoriasis', 'seboreic dermatitis', 'lichen planus',\n",
    "                        'pityriasis rosea', 'cronic dermatitis', 'pityriasis rubra pilaris'])\n",
    "class_names = np.array([lab.capitalize() for lab in class_names])\n",
    "class_tags = np.arange(len(class_names)) + 1\n",
    "data = pd.read_csv(proj_path+'/0_data/dermatology.data.csv', header=None, names=col_names)\n",
    "skip_rows = data.Age == '?'\n",
    "data = data[~skip_rows]\n",
    "data.Age = np.array(data.Age, dtype=int)\n",
    "\n",
    "rnd_seed = 45\n",
    "data_info = ['Dermatology', data, feature_names, class_col, class_names, class_tags, rnd_seed]\n",
    "datasets.append(data_info)\n",
    "\n",
    "\n",
    "###\n",
    "\n",
    "\n",
    "np.random.seed(rnd_seed)\n",
    "feature_names = np.random.permutation(feature_names)###PERMUTE FEATURES\n",
    "rf_gscv, top_features_lst, rare_class = fitRF_and_rank(data, feature_names, class_col, rnd_seed)\n",
    "print('Method top selected features:')\n",
    "for lab,feat in zip(['Global: ', 'Shap: ', 'Pcfi: ', 'Rare class Shap: ', 'Rare class Pcfi: '], top_features_lst):\n",
    "    print(lab,feat)\n",
    "label_lst = ['Global', 'Shap', 'Pcfi', 'Rare Shap', 'Rare Pfci']\n",
    "is_global_score = [True, True, True, False, False]\n",
    "print('\\n')\n",
    "scores = [refitRF(data, top_features, class_col, rf_gscv, rare_class, rnd_seed, global_score=global_score)\n",
    "             for global_score,top_features in zip(is_global_score,top_features_lst)]\n",
    "print('Feature ranking method accuracy:')\n",
    "for lab,score in zip(label_lst[:3], scores[:3]):\n",
    "    print(lab, score)\n",
    "print('Feature ranking method f1_score for rare class')\n",
    "for lab,score in zip(label_lst[3:], scores[3:]):\n",
    "    print(lab, score)"
   ]
  },
  {
   "cell_type": "markdown",
   "metadata": {},
   "source": [
    "#### Students dataset"
   ]
  },
  {
   "cell_type": "code",
   "execution_count": 12,
   "metadata": {},
   "outputs": [
    {
     "name": "stdout",
     "output_type": "stream",
     "text": [
      "Is the dataset balanced? False\n",
      "Classes and counts: [1 2 3 4] [27 54 42  8]\n",
      "Classes count in train: (array([1, 2, 3, 4]), array([22, 41, 29,  6]))\n",
      "Classes count in test: (array([1, 2, 3, 4]), array([ 5, 13, 13,  2]))\n",
      "Best score: 0.6441071052076744\n",
      "Model performances:\n",
      "Accuracy: 66.67\n"
     ]
    },
    {
     "name": "stderr",
     "output_type": "stream",
     "text": [
      "Setting feature_perturbation = \"tree_path_dependent\" because no background data was given.\n"
     ]
    },
    {
     "name": "stdout",
     "output_type": "stream",
     "text": [
      "Do y and y_train have same rare class? True\n",
      "Method top selected features:\n",
      "Global:  ['Class x percentage' 'Class xii percentage'\n",
      " 'Internal assessment percentage' 'Father occupation']\n",
      "Shap:  ['Class x percentage' 'Internal assessment percentage'\n",
      " 'Class xii percentage' 'Home to college travel time']\n",
      "Pcfi:  ['Class x percentage' 'Internal assessment percentage'\n",
      " 'Class xii percentage' 'Mother qualification']\n",
      "Rare class Shap:  ['Internal assessment percentage' 'Class xii percentage'\n",
      " 'Class x percentage']\n",
      "Rare class Pcfi:  ['Internal assessment percentage' 'Class xii percentage'\n",
      " 'Class x percentage']\n",
      "\n",
      "\n",
      "Feature ranking method accuracy:\n",
      "Global 57.58\n",
      "Shap 54.55\n",
      "Pcfi 69.7\n",
      "Feature ranking method f1_score for rare class\n",
      "Rare Shap 0.0\n",
      "Rare Pfci 0.0\n"
     ]
    }
   ],
   "source": [
    "col_names = np.array([\n",
    "    'Gender', 'Caste', 'Class X Percentage', 'Class XII Percentage', 'Internal Assessment Percentage',\n",
    "    'End Semester Percentage', 'Whether the student has back or arrear papers', 'Marital Status',\n",
    "    'Lived in Town or Village', 'Admission Category', 'Family Monthly Income', 'Family Size',\n",
    "    'Father Qualification', 'Mother Qualification', 'Father Occupation', 'Mother Occupation',\n",
    "    'Number of Friends', 'Study Hours', 'Student School attended at Class X level', 'Medium',\n",
    "    'Home to College Travel Time', 'Class Attendance Percentage'\n",
    "])\n",
    "col_names = np.array([lab.capitalize() for lab in col_names])\n",
    "students_data = pd.read_csv(proj_path+'/0_data/Student_performances.csv', header=None, names=col_names)\n",
    "students_data = students_data.loc[:,col_names!='Marital status']\n",
    "\n",
    "string_to_int_list = [\n",
    "    {'M':0,'F':1}, {'G':0,'ST':1,'SC':2,'OBC':3,'MOBC':4}, {'Best':4,'Vg':3,'Good':2,'Pass':1,'Fail':0},\n",
    "    {'Best':4,'Vg':3,'Good':2,'Pass':1,'Fail':0}, {'Best':4,'Vg':3,'Good':2,'Pass':1,'Fail':0},\n",
    "    {'Best':4,'Vg':3,'Good':2,'Pass':1,'Fail':0}, {'Y':1,'N':0},\n",
    "    {'T':1,'V':0}, {'Free':0,'Paid':1},\n",
    "    {'Vh':4,'High':3,'Am':2,'Medium':1,'Low':0}, {'Large':2,'Average':1,'Small':0},\n",
    "    {'Il':0,'Um':1,'10':2,'12':3,'Degree':4,'Pg':5}, {'Il':0,'Um':1,'10':2,'12':3,'Degree':4,'Pg':5},\n",
    "    {'Service':0,'Business':1,'Retired':2,'Farmer':3,'Others':4},\n",
    "    {'Service':0,'Business':1,'Retired':2,'Housewife':3,'Others':4},\n",
    "    {'Large':2,'Average':1,'Small':0}, {'Good':2,'Average':1,'Poor':0},\n",
    "    {'Govt':1,'Private':0}, {'Eng':0,'Asm':1,'Hin':2,'Ben':3},\n",
    "    {'Large':2,'Average':1,'Small':0}, {'Good':2,'Average':1,'Poor':0}\n",
    "]\n",
    "for col_name,string_to_int in zip(students_data.columns, string_to_int_list):\n",
    "    students_data.loc[:,col_name] = students_data.apply(lambda r: string_to_int[r[col_name]], axis=1)\n",
    "    \n",
    "feature_names = np.array(students_data.columns[students_data.columns!='End semester percentage'])\n",
    "class_col = 'End semester percentage'\n",
    "class_names = np.array(['Fail', 'Pass', 'Good', 'Vg', 'Best'])\n",
    "class_tags = np.arange(len(class_names))\n",
    "rnd_seed = 44#not 45 as no rare class is assigned to the test set\n",
    "\n",
    "data_info = ['Student_finals', students_data, feature_names, class_col, class_names, class_tags, rnd_seed]\n",
    "datasets.append(data_info)\n",
    "\n",
    "\n",
    "###\n",
    "\n",
    "\n",
    "data = students_data\n",
    "np.random.seed(rnd_seed)\n",
    "feature_names = np.random.permutation(feature_names)###PERMUTE FEATURES\n",
    "rf_gscv, top_features_lst, rare_class = fitRF_and_rank(data, feature_names, class_col, rnd_seed)\n",
    "print('Method top selected features:')\n",
    "for lab,feat in zip(['Global: ', 'Shap: ', 'Pcfi: ', 'Rare class Shap: ', 'Rare class Pcfi: '], top_features_lst):\n",
    "    print(lab,feat)\n",
    "label_lst = ['Global', 'Shap', 'Pcfi', 'Rare Shap', 'Rare Pfci']\n",
    "is_global_score = [True, True, True, False, False]\n",
    "print('\\n')\n",
    "scores = [refitRF(data, top_features, class_col, rf_gscv, rare_class, rnd_seed, global_score=global_score)\n",
    "             for global_score,top_features in zip(is_global_score,top_features_lst)]\n",
    "print('Feature ranking method accuracy:')\n",
    "for lab,score in zip(label_lst[:3], scores[:3]):\n",
    "    print(lab, score)\n",
    "print('Feature ranking method f1_score for rare class')\n",
    "for lab,score in zip(label_lst[3:], scores[3:]):\n",
    "    print(lab, score)"
   ]
  },
  {
   "cell_type": "markdown",
   "metadata": {},
   "source": [
    "#### Tumor dataset"
   ]
  },
  {
   "cell_type": "code",
   "execution_count": 13,
   "metadata": {
    "scrolled": false
   },
   "outputs": [
    {
     "name": "stdout",
     "output_type": "stream",
     "text": [
      "Is the dataset balanced? False\n",
      "Classes and counts: [ 1  2  5 11 12 14 18 22] [82 20 39 28 16 24 29 24]\n",
      "Classes count in train: (array([ 1,  2,  5, 11, 12, 14, 18, 22]), array([59, 15, 32, 23,  9, 21, 25, 12]))\n",
      "Classes count in test: (array([ 1,  2,  5, 11, 12, 14, 18, 22]), array([23,  5,  7,  5,  7,  3,  4, 12]))\n",
      "Best score: 0.5213973422928647\n",
      "Model performances:\n",
      "Accuracy: 54.55\n"
     ]
    },
    {
     "name": "stderr",
     "output_type": "stream",
     "text": [
      "Setting feature_perturbation = \"tree_path_dependent\" because no background data was given.\n"
     ]
    },
    {
     "name": "stdout",
     "output_type": "stream",
     "text": [
      "Do y and y_train have same rare class? True\n",
      "Method top selected features:\n",
      "Global:  ['Age' 'Sex' 'Mediastinum']\n",
      "Shap:  ['Sex' 'Neck' 'Peritoneum']\n",
      "Pcfi:  ['Age' 'Neck' 'Sex']\n",
      "Rare class Shap:  ['Age' 'Sex' 'Peritoneum']\n",
      "Rare class Pcfi:  ['Age' 'Sex' 'Liver']\n",
      "\n",
      "\n",
      "Feature ranking method accuracy:\n",
      "Global 40.91\n",
      "Shap 40.91\n",
      "Pcfi 36.36\n",
      "Feature ranking method f1_score for rare class\n",
      "Rare Shap 53.33\n",
      "Rare Pfci 71.43\n"
     ]
    }
   ],
   "source": [
    "col_names = np.array([\n",
    "    'class', 'age', 'sex', 'histologic-type', 'degree-of-diffe', 'bone', 'bone-marrow', 'lung', 'pleura',\n",
    "    'peritoneum', 'liver', 'brain', 'skin', 'neck', 'supraclavicular', 'axillar', 'mediastinum', 'abdominal'\n",
    "])\n",
    "col_names = np.array([lab.capitalize() for lab in col_names])\n",
    "feature_names = col_names[col_names!='Class']\n",
    "class_names = np.array([\n",
    "    'lung', 'head & neck', 'esophasus', 'thyroid', 'stomach', 'duoden & sm.int',\n",
    "    'colon', 'rectum', 'anus', 'salivary glands', 'pancreas', 'gallblader',\n",
    "    'liver', 'kidney', 'bladder', 'testis', 'prostate', 'ovary', 'corpus uteri', \n",
    "    'cervix uteri', 'vagina', 'breast'\n",
    "])\n",
    "tumor_data = pd.read_csv(proj_path+'/0_data/primary-tumor.data.csv', header=None, names=col_names)\n",
    "tumor_data = tumor_data.loc[:,[col for col in col_names if not(col in ['Histologic-type', 'Degree-of-diffe'])]]\n",
    "tumor_data.apply(lambda r: any(r=='?'),axis=1)\n",
    "tumor_data = tumor_data.loc[~(tumor_data.apply(lambda r: any(r=='?'),axis=1)),:]\n",
    "class_tags, class_counts = np.unique(tumor_data.Class, return_counts=True)\n",
    "keep = class_tags[class_counts>=15]\n",
    "tumor_data = tumor_data.loc[tumor_data.Class.isin(keep)]\n",
    "\n",
    "col_names = tumor_data.columns\n",
    "feature_names = np.array(col_names[col_names!='Class'])\n",
    "class_names = np.array([col for col in class_names if col in class_names[keep-1]])\n",
    "class_tags = np.unique(tumor_data.Class)\n",
    "class_col = 'Class'\n",
    "rnd_seed = 45\n",
    "data_info = ['Tumor', tumor_data, feature_names, class_col, class_names, class_tags, rnd_seed]\n",
    "datasets.append(data_info)\n",
    "\n",
    "\n",
    "###\n",
    "\n",
    "\n",
    "data = tumor_data\n",
    "np.random.seed(rnd_seed)\n",
    "feature_names = np.random.permutation(feature_names)###PERMUTE FEATURES\n",
    "rf_gscv, top_features_lst, rare_class = fitRF_and_rank(data, feature_names, class_col, rnd_seed)\n",
    "print('Method top selected features:')\n",
    "for lab,feat in zip(['Global: ', 'Shap: ', 'Pcfi: ', 'Rare class Shap: ', 'Rare class Pcfi: '], top_features_lst):\n",
    "    print(lab,feat)\n",
    "label_lst = ['Global', 'Shap', 'Pcfi', 'Rare Shap', 'Rare Pfci']\n",
    "is_global_score = [True, True, True, False, False]\n",
    "print('\\n')\n",
    "scores = [refitRF(data, top_features, class_col, rf_gscv, rare_class, rnd_seed, global_score=global_score)\n",
    "             for global_score,top_features in zip(is_global_score,top_features_lst)]\n",
    "print('Feature ranking method accuracy:')\n",
    "for lab,score in zip(label_lst[:3], scores[:3]):\n",
    "    print(lab, score)\n",
    "print('Feature ranking method f1_score for rare class')\n",
    "for lab,score in zip(label_lst[3:], scores[3:]):\n",
    "    print(lab, score)"
   ]
  },
  {
   "cell_type": "markdown",
   "metadata": {},
   "source": [
    "#### Flag dataset"
   ]
  },
  {
   "cell_type": "code",
   "execution_count": 14,
   "metadata": {},
   "outputs": [
    {
     "name": "stdout",
     "output_type": "stream",
     "text": [
      "Is the dataset balanced? False\n",
      "Classes and counts: [0 1 2 3 4 5] [40 60 36 27 15 16]\n",
      "Classes count in train: (array([0, 1, 2, 3, 4, 5]), array([33, 47, 27, 18,  9, 11]))\n",
      "Classes count in test: (array([0, 1, 2, 3, 4, 5]), array([ 7, 13,  9,  9,  6,  5]))\n",
      "Best score: 0.6064553480966856\n",
      "Model performances:\n",
      "Accuracy: 63.27\n"
     ]
    },
    {
     "name": "stderr",
     "output_type": "stream",
     "text": [
      "Setting feature_perturbation = \"tree_path_dependent\" because no background data was given.\n"
     ]
    },
    {
     "name": "stdout",
     "output_type": "stream",
     "text": [
      "Do y and y_train have same rare class? True\n",
      "Method top selected features:\n",
      "Global:  ['Landmass' 'Language' 'Area']\n",
      "Shap:  ['Landmass' 'Zone' 'Language']\n",
      "Pcfi:  ['Landmass' 'Language' 'Area']\n",
      "Rare class Shap:  ['Zone' 'Green' 'Landmass']\n",
      "Rare class Pcfi:  ['Population' 'Green' 'Sunstars']\n",
      "\n",
      "\n",
      "Feature ranking method accuracy:\n",
      "Global 61.22\n",
      "Shap 61.22\n",
      "Pcfi 61.22\n",
      "Feature ranking method f1_score for rare class\n",
      "Rare Shap 0.0\n",
      "Rare Pfci 0.0\n"
     ]
    },
    {
     "name": "stderr",
     "output_type": "stream",
     "text": [
      "F-score is ill-defined and being set to 0.0 due to no predicted samples.\n",
      "F-score is ill-defined and being set to 0.0 due to no predicted samples.\n"
     ]
    }
   ],
   "source": [
    "col_names = np.array([\n",
    "    'name', 'landmass', 'zone', 'area', 'population', 'language', 'religion', 'bars', 'stripes', 'colours',\n",
    "    'red', 'green', 'blue', 'gold', 'white', 'black', 'orange', 'mainhue', 'circles', 'crosses', 'saltires',\n",
    "    'quarters', 'sunstars', 'crescent', 'triangle', 'icon', 'animate', 'text', 'topleft', 'botright'\n",
    "])\n",
    "col_names = np.array([lab.capitalize() for lab in col_names])\n",
    "\n",
    "feature_names = np.array(col_names[np.logical_and(col_names!='Religion', col_names!='Name')])\n",
    "class_col = 'Religion'\n",
    "class_names = np.array(['Catholic', 'Other Christian', 'Muslim',# 'Buddhist', 'Hindu',\n",
    "                        'Ethnic', 'Marxist', 'Others'])\n",
    "\n",
    "class_tags = np.arange(len(class_names))\n",
    "flag_data = pd.read_csv(proj_path+'/0_data/flag.data.csv', header=None, names=col_names)\n",
    "\n",
    "string_to_int = {'black':0, 'blue':1, 'brown':2, 'gold':3, 'green':4, 'orange':5, 'red':6, 'white':7}\n",
    "for col_name in ['Mainhue', 'Topleft', 'Botright']:\n",
    "    flag_data.loc[:,col_name] = flag_data.apply(lambda r: string_to_int[r[col_name]], axis=1)\n",
    "string_to_int = {0:0, 1:1, 2:2, 3:5, 4:5, 5:3, 6:4, 7:5}\n",
    "flag_data.loc[:,['Religion']] = flag_data.apply(lambda r: string_to_int[r['Religion']], axis=1)\n",
    "\n",
    "rnd_seed = 45\n",
    "\n",
    "data_info = ['Flag', flag_data, feature_names, class_col, class_names, class_tags, rnd_seed]\n",
    "datasets.append(data_info)\n",
    "\n",
    "\n",
    "###\n",
    "\n",
    "\n",
    "data = flag_data  \n",
    "np.random.seed(rnd_seed)\n",
    "feature_names = np.random.permutation(feature_names)###PERMUTE FEATURES\n",
    "rf_gscv, top_features_lst, rare_class = fitRF_and_rank(data, feature_names, class_col, rnd_seed)\n",
    "print('Method top selected features:')\n",
    "for lab,feat in zip(['Global: ', 'Shap: ', 'Pcfi: ', 'Rare class Shap: ', 'Rare class Pcfi: '], top_features_lst):\n",
    "    print(lab,feat)\n",
    "label_lst = ['Global', 'Shap', 'Pcfi', 'Rare Shap', 'Rare Pfci']\n",
    "is_global_score = [True, True, True, False, False]\n",
    "print('\\n')\n",
    "scores = [refitRF(data, top_features, class_col, rf_gscv, rare_class, rnd_seed, global_score=global_score)\n",
    "             for global_score,top_features in zip(is_global_score,top_features_lst)]\n",
    "print('Feature ranking method accuracy:')\n",
    "for lab,score in zip(label_lst[:3], scores[:3]):\n",
    "    print(lab, score)\n",
    "print('Feature ranking method f1_score for rare class')\n",
    "for lab,score in zip(label_lst[3:], scores[3:]):\n",
    "    print(lab, score)"
   ]
  },
  {
   "cell_type": "markdown",
   "metadata": {},
   "source": [
    "#### Breast tissue dataset"
   ]
  },
  {
   "cell_type": "code",
   "execution_count": 15,
   "metadata": {},
   "outputs": [
    {
     "name": "stdout",
     "output_type": "stream",
     "text": [
      "Is the dataset balanced? False\n",
      "Classes and counts: [0 1 2 3 4 5] [22 21 14 15 16 18]\n",
      "Classes count in train: (array([0, 1, 2, 3, 4, 5]), array([17, 14, 11, 11, 12, 14]))\n",
      "Classes count in test: (array([0, 1, 2, 3, 4, 5]), array([5, 7, 3, 4, 4, 4]))\n",
      "Best score: 0.7054865424430643\n",
      "Model performances:\n",
      "Accuracy: 74.07\n"
     ]
    },
    {
     "name": "stderr",
     "output_type": "stream",
     "text": [
      "Setting feature_perturbation = \"tree_path_dependent\" because no background data was given.\n"
     ]
    },
    {
     "name": "stdout",
     "output_type": "stream",
     "text": [
      "Do y and y_train have same rare class? True\n",
      "Method top selected features:\n",
      "Global:  ['P' 'I0' 'Max IP']\n",
      "Shap:  ['I0' 'P' 'DA']\n",
      "Pcfi:  ['P' 'I0' 'Max IP']\n",
      "Rare class Shap:  ['I0' 'P' 'DA']\n",
      "Rare class Pcfi:  ['I0' 'P' 'DA']\n",
      "\n",
      "\n",
      "Feature ranking method accuracy:\n",
      "Global 70.37\n",
      "Shap 77.78\n",
      "Pcfi 70.37\n",
      "Feature ranking method f1_score for rare class\n",
      "Rare Shap 100.0\n",
      "Rare Pfci 100.0\n"
     ]
    }
   ],
   "source": [
    "breast_data = pd.read_excel(proj_path+'/0_data/BreastTissue.xls', sheet_name=1)\n",
    "breast_data = breast_data.iloc[:,1:]\n",
    "\n",
    "feature_names = np.array(breast_data.columns[1:])\n",
    "class_col = 'Class'\n",
    "class_names = np.unique(breast_data.Class)\n",
    "class_tags = np.arange(len(class_names))\n",
    "\n",
    "string_to_int = dict(zip(class_names, class_tags))\n",
    "breast_data.loc[:,'Class'] = breast_data.apply(lambda r: string_to_int[r.Class], axis=1)\n",
    "\n",
    "rnd_seed = 45\n",
    "\n",
    "data_info = ['Breast_tissue', breast_data, feature_names, class_col, class_names, class_tags, rnd_seed]\n",
    "datasets.append(data_info)\n",
    "\n",
    "\n",
    "###\n",
    "\n",
    "\n",
    "data = breast_data\n",
    "np.random.seed(rnd_seed)\n",
    "feature_names = np.random.permutation(feature_names)###PERMUTE FEATURES\n",
    "rf_gscv, top_features_lst, rare_class = fitRF_and_rank(data, feature_names, class_col, rnd_seed)\n",
    "print('Method top selected features:')\n",
    "for lab,feat in zip(['Global: ', 'Shap: ', 'Pcfi: ', 'Rare class Shap: ', 'Rare class Pcfi: '], top_features_lst):\n",
    "    print(lab,feat)\n",
    "label_lst = ['Global', 'Shap', 'Pcfi', 'Rare Shap', 'Rare Pfci']\n",
    "is_global_score = [True, True, True, False, False]\n",
    "print('\\n')\n",
    "scores = [refitRF(data, top_features, class_col, rf_gscv, rare_class, rnd_seed, global_score=global_score)\n",
    "             for global_score,top_features in zip(is_global_score,top_features_lst)]\n",
    "print('Feature ranking method accuracy:')\n",
    "for lab,score in zip(label_lst[:3], scores[:3]):\n",
    "    print(lab, score)\n",
    "print('Feature ranking method f1_score for rare class')\n",
    "for lab,score in zip(label_lst[3:], scores[3:]):\n",
    "    print(lab, score)"
   ]
  },
  {
   "cell_type": "markdown",
   "metadata": {},
   "source": [
    "#### Car dataset"
   ]
  },
  {
   "cell_type": "code",
   "execution_count": 16,
   "metadata": {},
   "outputs": [
    {
     "name": "stdout",
     "output_type": "stream",
     "text": [
      "['Buying' 'Maint' 'Doors' 'Persons' 'Lug_boot' 'Safety'] ['unacc' 'acc' 'good' 'vgood'] [0 1 2 3]\n",
      "Is the dataset balanced? False\n",
      "Classes and counts: [0 1 2 3] [1210  384   69   65]\n",
      "Classes count in train: (array([0, 1, 2, 3]), array([908, 288,  51,  49]))\n",
      "Classes count in test: (array([0, 1, 2, 3]), array([302,  96,  18,  16]))\n",
      "Best score: 0.9691249616395052\n",
      "Model performances:\n",
      "Accuracy: 98.38\n"
     ]
    },
    {
     "name": "stderr",
     "output_type": "stream",
     "text": [
      "Setting feature_perturbation = \"tree_path_dependent\" because no background data was given.\n"
     ]
    },
    {
     "name": "stdout",
     "output_type": "stream",
     "text": [
      "Do y and y_train have same rare class? True\n",
      "Method top selected features:\n",
      "Global:  ['Safety' 'Persons' 'Buying']\n",
      "Shap:  ['Safety' 'Persons' 'Buying']\n",
      "Pcfi:  ['Safety' 'Persons' 'Buying']\n",
      "Rare class Shap:  ['Safety' 'Buying' 'Lug_boot']\n",
      "Rare class Pcfi:  ['Safety' 'Buying' 'Lug_boot']\n",
      "\n",
      "\n",
      "Feature ranking method accuracy:\n",
      "Global 80.32\n",
      "Shap 80.32\n",
      "Pcfi 80.32\n",
      "Feature ranking method f1_score for rare class\n",
      "Rare Shap 48.28\n",
      "Rare Pfci 48.28\n"
     ]
    }
   ],
   "source": [
    "col_names = np.array([\n",
    "    'buying', 'maint', 'doors', 'persons', 'lug_boot', 'safety', 'class'\n",
    "])\n",
    "col_names = np.array([lab.capitalize() for lab in col_names])\n",
    "car_data = pd.read_csv(proj_path+'/0_data/car.data.csv', header=None, names=col_names)\n",
    "\n",
    "string_to_int_list = [\n",
    "    {'vhigh':3, 'high':2, 'med':1, 'low':0},\n",
    "    {'vhigh':3, 'high':2, 'med':1, 'low':0},\n",
    "    {'2':2, '3':3, '4':4, '5more':5},\n",
    "    {'2':0, '4':1, 'more':2},\n",
    "    {'small':0, 'med':1, 'big':2},\n",
    "    {'low':0, 'med':1, 'high':2},\n",
    "    {'unacc':0, 'acc':1, 'good':2, 'vgood':3}\n",
    "]\n",
    "\n",
    "for col_name,string_to_int in zip(car_data.columns, string_to_int_list):\n",
    "    car_data.loc[:,col_name] = car_data.apply(lambda r: string_to_int[r[col_name]], axis=1)\n",
    "\n",
    "    \n",
    "feature_names = np.array(car_data.columns[car_data.columns!='Class'])\n",
    "class_col = 'Class'\n",
    "class_names = np.array(['unacc', 'acc', 'good', 'vgood'])\n",
    "class_tags = np.arange(len(class_names))\n",
    "print(feature_names, class_names, class_tags)\n",
    "\n",
    "rnd_seed = 45\n",
    "data_info = ['Cars', car_data, feature_names, class_col, class_names, class_tags, rnd_seed]\n",
    "datasets.append(data_info)\n",
    "\n",
    "\n",
    "###\n",
    "\n",
    "\n",
    "data = car_data\n",
    "np.random.seed(rnd_seed)\n",
    "feature_names = np.random.permutation(feature_names)###PERMUTE FEATURES\n",
    "rf_gscv, top_features_lst, rare_class = fitRF_and_rank(data, feature_names, class_col, rnd_seed)\n",
    "print('Method top selected features:')\n",
    "for lab,feat in zip(['Global: ', 'Shap: ', 'Pcfi: ', 'Rare class Shap: ', 'Rare class Pcfi: '], top_features_lst):\n",
    "    print(lab,feat)\n",
    "label_lst = ['Global', 'Shap', 'Pcfi', 'Rare Shap', 'Rare Pfci']\n",
    "is_global_score = [True, True, True, False, False]\n",
    "print('\\n')\n",
    "scores = [refitRF(data, top_features, class_col, rf_gscv, rare_class, rnd_seed, global_score=global_score)\n",
    "             for global_score,top_features in zip(is_global_score,top_features_lst)]\n",
    "print('Feature ranking method accuracy:')\n",
    "for lab,score in zip(label_lst[:3], scores[:3]):\n",
    "    print(lab, score)\n",
    "print('Feature ranking method f1_score for rare class')\n",
    "for lab,score in zip(label_lst[3:], scores[3:]):\n",
    "    print(lab, score)"
   ]
  },
  {
   "cell_type": "markdown",
   "metadata": {},
   "source": [
    "#### WiFi signals dataset"
   ]
  },
  {
   "cell_type": "code",
   "execution_count": 17,
   "metadata": {},
   "outputs": [
    {
     "name": "stdout",
     "output_type": "stream",
     "text": [
      "Is the dataset balanced? True\n",
      "Classes and counts: [1 2 3 4] [500 500 500 500]\n",
      "Classes count in train: (array([1, 2, 3, 4]), array([372, 379, 378, 371]))\n",
      "Classes count in test: (array([1, 2, 3, 4]), array([128, 121, 122, 129]))\n",
      "Best score: 0.9859959653171946\n",
      "Model performances:\n",
      "Accuracy: 98.2\n"
     ]
    },
    {
     "name": "stderr",
     "output_type": "stream",
     "text": [
      "Setting feature_perturbation = \"tree_path_dependent\" because no background data was given.\n"
     ]
    },
    {
     "name": "stdout",
     "output_type": "stream",
     "text": [
      "Do y and y_train have same rare class? False\n",
      "Method top selected features:\n",
      "Global:  ['Signal 5' 'Signal 4' 'Signal 1']\n",
      "Shap:  ['Signal 5' 'Signal 4' 'Signal 1']\n",
      "Pcfi:  ['Signal 5' 'Signal 4' 'Signal 1']\n",
      "Rare class Shap:  ['Signal 4' 'Signal 1' 'Signal 5']\n",
      "Rare class Pcfi:  ['Signal 4' 'Signal 1' 'Signal 5']\n",
      "\n",
      "\n",
      "Feature ranking method accuracy:\n",
      "Global 97.6\n",
      "Shap 97.6\n",
      "Pcfi 97.6\n",
      "Feature ranking method f1_score for rare class\n",
      "Rare Shap 98.08\n",
      "Rare Pfci 98.08\n"
     ]
    }
   ],
   "source": [
    "wifi_data = pd.read_excel(proj_path+'/0_data/WiFi_signals.xls')\n",
    "\n",
    "class_names = np.unique(wifi_data.Room)\n",
    "feature_names = np.array(wifi_data.columns[wifi_data.columns!='Room'])\n",
    "class_col = 'Room'\n",
    "class_tags = class_names\n",
    "\n",
    "rnd_seed = 45\n",
    "\n",
    "data_info = ['Wifi', wifi_data, feature_names, class_col, class_names, class_tags, rnd_seed]\n",
    "datasets.append(data_info)\n",
    "\n",
    "\n",
    "###\n",
    "\n",
    "\n",
    "data = wifi_data\n",
    "np.random.seed(rnd_seed)\n",
    "feature_names = np.random.permutation(feature_names)###PERMUTE FEATURES\n",
    "rf_gscv, top_features_lst, rare_class = fitRF_and_rank(data, feature_names, class_col, rnd_seed)\n",
    "print('Method top selected features:')\n",
    "for lab,feat in zip(['Global: ', 'Shap: ', 'Pcfi: ', 'Rare class Shap: ', 'Rare class Pcfi: '], top_features_lst):\n",
    "    print(lab,feat)\n",
    "label_lst = ['Global', 'Shap', 'Pcfi', 'Rare Shap', 'Rare Pfci']\n",
    "is_global_score = [True, True, True, False, False]\n",
    "print('\\n')\n",
    "scores = [refitRF(data, top_features, class_col, rf_gscv, rare_class, rnd_seed, global_score=global_score)\n",
    "             for global_score,top_features in zip(is_global_score,top_features_lst)]\n",
    "print('Feature ranking method accuracy:')\n",
    "for lab,score in zip(label_lst[:3], scores[:3]):\n",
    "    print(lab, score)\n",
    "print('Feature ranking method f1_score for rare class')\n",
    "for lab,score in zip(label_lst[3:], scores[3:]):\n",
    "    print(lab, score)"
   ]
  },
  {
   "cell_type": "markdown",
   "metadata": {},
   "source": [
    "#### Iris dataset"
   ]
  },
  {
   "cell_type": "code",
   "execution_count": 18,
   "metadata": {},
   "outputs": [
    {
     "name": "stdout",
     "output_type": "stream",
     "text": [
      "Is the dataset balanced? True\n",
      "Classes and counts: [0 1 2] [50 50 50]\n",
      "Classes count in train: (array([0, 1, 2]), array([36, 41, 35]))\n",
      "Classes count in test: (array([0, 1, 2]), array([14,  9, 15]))\n",
      "Best score: 0.9639376218323585\n",
      "Model performances:\n",
      "Accuracy: 94.74\n",
      "Do y and y_train have same rare class? False\n",
      "Method top selected features:\n",
      "Global:  ['petal width (cm)' 'petal length (cm)' 'sepal length (cm)']\n",
      "Shap:  ['petal width (cm)' 'petal length (cm)' 'sepal length (cm)']\n",
      "Pcfi:  ['petal width (cm)' 'petal length (cm)' 'sepal length (cm)']\n",
      "Rare class Shap:  ['petal width (cm)' 'petal length (cm)' 'sepal length (cm)']\n",
      "Rare class Pcfi:  ['petal width (cm)' 'petal length (cm)' 'sepal length (cm)']\n",
      "\n",
      "\n"
     ]
    },
    {
     "name": "stderr",
     "output_type": "stream",
     "text": [
      "Setting feature_perturbation = \"tree_path_dependent\" because no background data was given.\n"
     ]
    },
    {
     "name": "stdout",
     "output_type": "stream",
     "text": [
      "Feature ranking method accuracy:\n",
      "Global 94.74\n",
      "Shap 94.74\n",
      "Pcfi 94.74\n",
      "Feature ranking method f1_score for rare class\n",
      "Rare Shap 100.0\n",
      "Rare Pfci 100.0\n"
     ]
    }
   ],
   "source": [
    "from sklearn.datasets import load_iris\n",
    "\n",
    "iris = load_iris()\n",
    "feature_names = np.array(iris.feature_names)\n",
    "class_names = iris.target_names\n",
    "class_tags = np.array([0, 1, 2])\n",
    "class_col = 'Class'\n",
    "\n",
    "iris_data = pd.DataFrame(iris.data,columns=feature_names)\n",
    "iris_data[class_col] = pd.Series(iris.target)\n",
    "\n",
    "rnd_seed = 45\n",
    "data_info = ['Iris', iris_data, feature_names, class_col, class_names, class_tags, rnd_seed]\n",
    "datasets.append(data_info)\n",
    "\n",
    "\n",
    "###\n",
    "\n",
    "\n",
    "data = iris_data\n",
    "np.random.seed(rnd_seed)\n",
    "feature_names = np.random.permutation(feature_names)###PERMUTE FEATURES\n",
    "rf_gscv, top_features_lst, rare_class = fitRF_and_rank(data, feature_names, class_col, rnd_seed)\n",
    "print('Method top selected features:')\n",
    "for lab,feat in zip(['Global: ', 'Shap: ', 'Pcfi: ', 'Rare class Shap: ', 'Rare class Pcfi: '], top_features_lst):\n",
    "    print(lab,feat)\n",
    "label_lst = ['Global', 'Shap', 'Pcfi', 'Rare Shap', 'Rare Pfci']\n",
    "is_global_score = [True, True, True, False, False]\n",
    "print('\\n')\n",
    "scores = [refitRF(data, top_features, class_col, rf_gscv, rare_class, rnd_seed, global_score=global_score)\n",
    "             for global_score,top_features in zip(is_global_score,top_features_lst)]\n",
    "print('Feature ranking method accuracy:')\n",
    "for lab,score in zip(label_lst[:3], scores[:3]):\n",
    "    print(lab, score)\n",
    "print('Feature ranking method f1_score for rare class')\n",
    "for lab,score in zip(label_lst[3:], scores[3:]):\n",
    "    print(lab, score)"
   ]
  },
  {
   "cell_type": "markdown",
   "metadata": {},
   "source": [
    "#### Wine dataset"
   ]
  },
  {
   "cell_type": "code",
   "execution_count": 19,
   "metadata": {},
   "outputs": [
    {
     "name": "stdout",
     "output_type": "stream",
     "text": [
      "Is the dataset balanced? False\n",
      "Classes and counts: [0 1 2] [59 71 48]\n",
      "Classes count in train: (array([0, 1, 2]), array([47, 54, 32]))\n",
      "Classes count in test: (array([0, 1, 2]), array([12, 17, 16]))\n",
      "Best score: 0.9851851851851853\n",
      "Model performances:\n",
      "Accuracy: 100.0\n"
     ]
    },
    {
     "name": "stderr",
     "output_type": "stream",
     "text": [
      "Setting feature_perturbation = \"tree_path_dependent\" because no background data was given.\n"
     ]
    },
    {
     "name": "stdout",
     "output_type": "stream",
     "text": [
      "Do y and y_train have same rare class? True\n",
      "Method top selected features:\n",
      "Global:  ['color_intensity' 'proline' 'flavanoids' 'alcohol'\n",
      " 'od280/od315_of_diluted_wines' 'hue' 'total_phenols' 'malic_acid']\n",
      "Shap:  ['color_intensity' 'proline' 'flavanoids' 'alcohol'\n",
      " 'od280/od315_of_diluted_wines' 'hue' 'total_phenols' 'proanthocyanins']\n",
      "Pcfi:  ['color_intensity' 'proline' 'flavanoids' 'alcohol'\n",
      " 'od280/od315_of_diluted_wines' 'hue' 'total_phenols' 'malic_acid']\n",
      "Rare class Shap:  ['flavanoids' 'od280/od315_of_diluted_wines' 'color_intensity']\n",
      "Rare class Pcfi:  ['flavanoids' 'od280/od315_of_diluted_wines' 'hue']\n",
      "\n",
      "\n",
      "Feature ranking method accuracy:\n",
      "Global 100.0\n",
      "Shap 97.78\n",
      "Pcfi 100.0\n",
      "Feature ranking method f1_score for rare class\n",
      "Rare Shap 96.97\n",
      "Rare Pfci 96.77\n"
     ]
    }
   ],
   "source": [
    "from sklearn.datasets import load_wine\n",
    "\n",
    "wines = load_wine()\n",
    "feature_names = np.array(wines.feature_names)\n",
    "class_names = wines.target_names\n",
    "class_tags = np.array([0, 1, 2])\n",
    "class_col = 'Class'\n",
    "\n",
    "wine_data = pd.DataFrame(wines.data,columns=feature_names)\n",
    "wine_data[class_col] = pd.Series(wines.target)\n",
    "\n",
    "rnd_seed = 45\n",
    "data_info = ['Wine', wine_data, feature_names, class_col, class_names, class_tags, rnd_seed]\n",
    "datasets.append(data_info)\n",
    "\n",
    "\n",
    "###\n",
    "\n",
    "\n",
    "data = wine_data\n",
    "np.random.seed(rnd_seed)\n",
    "feature_names = np.random.permutation(feature_names)###PERMUTE FEATURES\n",
    "rf_gscv, top_features_lst, rare_class = fitRF_and_rank(data, feature_names, class_col, rnd_seed)\n",
    "print('Method top selected features:')\n",
    "for lab,feat in zip(['Global: ', 'Shap: ', 'Pcfi: ', 'Rare class Shap: ', 'Rare class Pcfi: '], top_features_lst):\n",
    "    print(lab,feat)\n",
    "label_lst = ['Global', 'Shap', 'Pcfi', 'Rare Shap', 'Rare Pfci']\n",
    "is_global_score = [True, True, True, False, False]\n",
    "print('\\n')\n",
    "scores = [refitRF(data, top_features, class_col, rf_gscv, rare_class, rnd_seed, global_score=global_score)\n",
    "             for global_score,top_features in zip(is_global_score,top_features_lst)]\n",
    "print('Feature ranking method accuracy:')\n",
    "for lab,score in zip(label_lst[:3], scores[:3]):\n",
    "    print(lab, score)\n",
    "print('Feature ranking method f1_score for rare class')\n",
    "for lab,score in zip(label_lst[3:], scores[3:]):\n",
    "    print(lab, score)"
   ]
  },
  {
   "cell_type": "code",
   "execution_count": null,
   "metadata": {},
   "outputs": [],
   "source": []
  }
 ],
 "metadata": {
  "kernelspec": {
   "display_name": "Python 3",
   "language": "python",
   "name": "python3"
  },
  "language_info": {
   "codemirror_mode": {
    "name": "ipython",
    "version": 3
   },
   "file_extension": ".py",
   "mimetype": "text/x-python",
   "name": "python",
   "nbconvert_exporter": "python",
   "pygments_lexer": "ipython3",
   "version": "3.6.6"
  }
 },
 "nbformat": 4,
 "nbformat_minor": 2
}

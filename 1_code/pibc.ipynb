{
 "cells": [
  {
   "cell_type": "markdown",
   "metadata": {},
   "source": [
    "# Predictor Importance by Class for Random Forrest Classifiers\n",
    "Use the Gini index of each split in a tree of a random forrest to calculate the importance of each predictor to an accurate classification of each class in a dataset."
   ]
  },
  {
   "cell_type": "code",
   "execution_count": 1,
   "metadata": {
    "ExecuteTime": {
     "end_time": "2019-01-22T14:56:58.723121Z",
     "start_time": "2019-01-22T14:56:58.703174Z"
    }
   },
   "outputs": [
    {
     "data": {
      "text/latex": [
       "`Algorithm pseudocode:  \n",
       "importance_matrix = [class, feature, trees] \n",
       "for tree in forest:\n",
       "    get the leaves of the tree\n",
       "    for l in leaves:\n",
       "        curr_node = l\n",
       "        while hasParent(currNode) and isNotVisited[class, currNode]:\n",
       "            isNotVisited[class, currNode] = False\n",
       "            currNode = parent(currNode)\n",
       "            importance_matrix[class, feature, tree] = currNode's change in MDG\n",
       "averageImportanceOverAllTrees --> matrix of [class, feature]`\n"
      ],
      "text/plain": [
       "<IPython.core.display.Latex object>"
      ]
     },
     "metadata": {},
     "output_type": "display_data"
    }
   ],
   "source": [
    "%%latex\n",
    "`Algorithm pseudocode:  \n",
    "importance_matrix = [class, feature, trees] \n",
    "for tree in forest:\n",
    "    get the leaves of the tree\n",
    "    for l in leaves:\n",
    "        curr_node = l\n",
    "        while hasParent(currNode) and isNotVisited[class, currNode]:\n",
    "            isNotVisited[class, currNode] = False\n",
    "            currNode = parent(currNode)\n",
    "            importance_matrix[class, feature, tree] = currNode's change in MDG\n",
    "averageImportanceOverAllTrees --> matrix of [class, feature]`"
   ]
  },
  {
   "cell_type": "code",
   "execution_count": 67,
   "metadata": {
    "ExecuteTime": {
     "end_time": "2019-01-22T17:19:37.432925Z",
     "start_time": "2019-01-22T17:19:37.428939Z"
    }
   },
   "outputs": [],
   "source": [
    "# import packages\n",
    "import numpy as np\n",
    "import pandas as pd\n",
    "from sklearn.ensemble import RandomForestClassifier\n",
    "from sklearn.model_selection import train_test_split\n",
    "from sklearn.tree import export_graphviz\n",
    "import pydot\n",
    "from tqdm import tqdm\n",
    "import seaborn as sns"
   ]
  },
  {
   "cell_type": "code",
   "execution_count": 43,
   "metadata": {
    "ExecuteTime": {
     "end_time": "2019-01-22T17:14:32.754264Z",
     "start_time": "2019-01-22T17:14:32.734321Z"
    }
   },
   "outputs": [
    {
     "data": {
      "text/html": [
       "<div>\n",
       "<style scoped>\n",
       "    .dataframe tbody tr th:only-of-type {\n",
       "        vertical-align: middle;\n",
       "    }\n",
       "\n",
       "    .dataframe tbody tr th {\n",
       "        vertical-align: top;\n",
       "    }\n",
       "\n",
       "    .dataframe thead th {\n",
       "        text-align: right;\n",
       "    }\n",
       "</style>\n",
       "<table border=\"1\" class=\"dataframe\">\n",
       "  <thead>\n",
       "    <tr style=\"text-align: right;\">\n",
       "      <th></th>\n",
       "      <th>Class</th>\n",
       "      <th>Alcohol</th>\n",
       "      <th>Malic acid</th>\n",
       "      <th>Ash</th>\n",
       "      <th>Alcalinity of ash</th>\n",
       "      <th>Magnesium</th>\n",
       "      <th>Total phenols</th>\n",
       "      <th>Flavanoids</th>\n",
       "      <th>Nonflavanoid phenols</th>\n",
       "      <th>Proanthocyanins</th>\n",
       "      <th>Color intensity</th>\n",
       "      <th>Hue</th>\n",
       "      <th>OD280-OD315 of diluted wines</th>\n",
       "      <th>Proline</th>\n",
       "    </tr>\n",
       "  </thead>\n",
       "  <tbody>\n",
       "    <tr>\n",
       "      <th>0</th>\n",
       "      <td>1</td>\n",
       "      <td>13.20</td>\n",
       "      <td>1.78</td>\n",
       "      <td>2.14</td>\n",
       "      <td>11.2</td>\n",
       "      <td>100</td>\n",
       "      <td>2.65</td>\n",
       "      <td>2.76</td>\n",
       "      <td>0.26</td>\n",
       "      <td>1.28</td>\n",
       "      <td>4.38</td>\n",
       "      <td>1.05</td>\n",
       "      <td>3.40</td>\n",
       "      <td>1050</td>\n",
       "    </tr>\n",
       "    <tr>\n",
       "      <th>1</th>\n",
       "      <td>1</td>\n",
       "      <td>13.16</td>\n",
       "      <td>2.36</td>\n",
       "      <td>2.67</td>\n",
       "      <td>18.6</td>\n",
       "      <td>101</td>\n",
       "      <td>2.80</td>\n",
       "      <td>3.24</td>\n",
       "      <td>0.30</td>\n",
       "      <td>2.81</td>\n",
       "      <td>5.68</td>\n",
       "      <td>1.03</td>\n",
       "      <td>3.17</td>\n",
       "      <td>1185</td>\n",
       "    </tr>\n",
       "    <tr>\n",
       "      <th>2</th>\n",
       "      <td>1</td>\n",
       "      <td>14.37</td>\n",
       "      <td>1.95</td>\n",
       "      <td>2.50</td>\n",
       "      <td>16.8</td>\n",
       "      <td>113</td>\n",
       "      <td>3.85</td>\n",
       "      <td>3.49</td>\n",
       "      <td>0.24</td>\n",
       "      <td>2.18</td>\n",
       "      <td>7.80</td>\n",
       "      <td>0.86</td>\n",
       "      <td>3.45</td>\n",
       "      <td>1480</td>\n",
       "    </tr>\n",
       "    <tr>\n",
       "      <th>3</th>\n",
       "      <td>1</td>\n",
       "      <td>13.24</td>\n",
       "      <td>2.59</td>\n",
       "      <td>2.87</td>\n",
       "      <td>21.0</td>\n",
       "      <td>118</td>\n",
       "      <td>2.80</td>\n",
       "      <td>2.69</td>\n",
       "      <td>0.39</td>\n",
       "      <td>1.82</td>\n",
       "      <td>4.32</td>\n",
       "      <td>1.04</td>\n",
       "      <td>2.93</td>\n",
       "      <td>735</td>\n",
       "    </tr>\n",
       "    <tr>\n",
       "      <th>4</th>\n",
       "      <td>1</td>\n",
       "      <td>14.20</td>\n",
       "      <td>1.76</td>\n",
       "      <td>2.45</td>\n",
       "      <td>15.2</td>\n",
       "      <td>112</td>\n",
       "      <td>3.27</td>\n",
       "      <td>3.39</td>\n",
       "      <td>0.34</td>\n",
       "      <td>1.97</td>\n",
       "      <td>6.75</td>\n",
       "      <td>1.05</td>\n",
       "      <td>2.85</td>\n",
       "      <td>1450</td>\n",
       "    </tr>\n",
       "  </tbody>\n",
       "</table>\n",
       "</div>"
      ],
      "text/plain": [
       "   Class  Alcohol  Malic acid   Ash  Alcalinity of ash  Magnesium  \\\n",
       "0      1    13.20        1.78  2.14               11.2        100   \n",
       "1      1    13.16        2.36  2.67               18.6        101   \n",
       "2      1    14.37        1.95  2.50               16.8        113   \n",
       "3      1    13.24        2.59  2.87               21.0        118   \n",
       "4      1    14.20        1.76  2.45               15.2        112   \n",
       "\n",
       "   Total phenols  Flavanoids  Nonflavanoid phenols  Proanthocyanins  \\\n",
       "0           2.65        2.76                  0.26             1.28   \n",
       "1           2.80        3.24                  0.30             2.81   \n",
       "2           3.85        3.49                  0.24             2.18   \n",
       "3           2.80        2.69                  0.39             1.82   \n",
       "4           3.27        3.39                  0.34             1.97   \n",
       "\n",
       "   Color intensity   Hue  OD280-OD315 of diluted wines  Proline  \n",
       "0             4.38  1.05                          3.40     1050  \n",
       "1             5.68  1.03                          3.17     1185  \n",
       "2             7.80  0.86                          3.45     1480  \n",
       "3             4.32  1.04                          2.93      735  \n",
       "4             6.75  1.05                          2.85     1450  "
      ]
     },
     "execution_count": 43,
     "metadata": {},
     "output_type": "execute_result"
    }
   ],
   "source": [
    "# import the dataset\n",
    "wines = pd.read_csv('../0_data/wines.csv')\n",
    "data_names = ['Class', 'Alcohol', 'Malic acid', 'Ash', 'Alcalinity of ash', \n",
    "                 'Magnesium', 'Total phenols', 'Flavanoids', 'Nonflavanoid phenols', \n",
    "                 'Proanthocyanins', 'Color intensity', 'Hue', 'OD280-OD315 of diluted wines', 'Proline']\n",
    "wines.columns = data_names\n",
    "wines.head(5)"
   ]
  },
  {
   "cell_type": "code",
   "execution_count": 44,
   "metadata": {
    "ExecuteTime": {
     "end_time": "2019-01-22T17:14:33.854369Z",
     "start_time": "2019-01-22T17:14:33.848385Z"
    }
   },
   "outputs": [],
   "source": [
    "# separate the dataset into features (X) and categories (Y)\n",
    "Y = wines['Class']\n",
    "feature_names = data_names[1:]\n",
    "X = np.array(wines[feature_names])\n",
    "X = np.array(X)"
   ]
  },
  {
   "cell_type": "code",
   "execution_count": 45,
   "metadata": {
    "ExecuteTime": {
     "end_time": "2019-01-22T17:14:34.376980Z",
     "start_time": "2019-01-22T17:14:34.371994Z"
    }
   },
   "outputs": [],
   "source": [
    "# separate the data into training and testing splits\n",
    "train_X, test_X, train_Y, test_Y = train_test_split(X, Y, test_size = 0.25, random_state = 42)"
   ]
  },
  {
   "cell_type": "code",
   "execution_count": 51,
   "metadata": {
    "ExecuteTime": {
     "end_time": "2019-01-22T17:15:18.974023Z",
     "start_time": "2019-01-22T17:15:18.476820Z"
    }
   },
   "outputs": [
    {
     "data": {
      "text/plain": [
       "RandomForestClassifier(bootstrap=True, class_weight=None, criterion='gini',\n",
       "            max_depth=None, max_features='auto', max_leaf_nodes=None,\n",
       "            min_impurity_decrease=0.0, min_impurity_split=None,\n",
       "            min_samples_leaf=1, min_samples_split=2,\n",
       "            min_weight_fraction_leaf=0.0, n_estimators=1000, n_jobs=None,\n",
       "            oob_score=False, random_state=42, verbose=0, warm_start=False)"
      ]
     },
     "execution_count": 51,
     "metadata": {},
     "output_type": "execute_result"
    }
   ],
   "source": [
    "# train the random forrest classifier\n",
    "# training with 1000 trees\n",
    "rf = RandomForestClassifier(n_estimators = 1000, random_state = 42)\n",
    "rf.fit(train_X, train_Y)"
   ]
  },
  {
   "cell_type": "code",
   "execution_count": 52,
   "metadata": {
    "ExecuteTime": {
     "end_time": "2019-01-22T17:15:21.010187Z",
     "start_time": "2019-01-22T17:15:20.958382Z"
    }
   },
   "outputs": [
    {
     "name": "stdout",
     "output_type": "stream",
     "text": [
      "Mean Absolute Error: 0.04\n"
     ]
    }
   ],
   "source": [
    "# make predictions and calculate the error\n",
    "predictions = rf.predict(test_X)\n",
    "errors = abs(predictions - test_Y)\n",
    "print('Mean Absolute Error: {}'.format(round(np.mean(errors), 2))) # Print out the mean absolute error (mae)"
   ]
  },
  {
   "cell_type": "code",
   "execution_count": 53,
   "metadata": {
    "ExecuteTime": {
     "end_time": "2019-01-22T17:15:21.796178Z",
     "start_time": "2019-01-22T17:15:21.789196Z"
    }
   },
   "outputs": [
    {
     "name": "stdout",
     "output_type": "stream",
     "text": [
      "Accuracy: 97.78%\n"
     ]
    }
   ],
   "source": [
    "# check the accuracy of the classifier with mean absolute percentage error (MAPE)\n",
    "mape = 100 * (errors / test_Y)\n",
    "accuracy = 100 - np.mean(mape)\n",
    "print('Accuracy: {}%'.format(round(accuracy, 2)))"
   ]
  },
  {
   "cell_type": "markdown",
   "metadata": {},
   "source": [
    "The accuracy is above 90%, so the judgement call is to proceed with implementing the PIBC algorithm on this classifier. We can then isolate a single tree and parse the tree structure similar to how the authors of Sci-Kit Learn do [here](https://scikit-learn.org/stable/auto_examples/tree/plot_unveil_tree_structure.html). Additional resource: [https://stackoverflow.com/questions/32506951/how-to-explore-a-decision-tree-built-using-scikit-learn](https://stackoverflow.com/questions/32506951/how-to-explore-a-decision-tree-built-using-scikit-learn)"
   ]
  },
  {
   "cell_type": "code",
   "execution_count": 54,
   "metadata": {
    "ExecuteTime": {
     "end_time": "2019-01-22T17:15:26.665209Z",
     "start_time": "2019-01-22T17:15:26.660224Z"
    }
   },
   "outputs": [],
   "source": [
    "estimator = rf.estimators_[1]\n",
    "\n",
    "# parse the tree structure into arrays\n",
    "n_nodes = estimator.tree_.node_count\n",
    "children_left = estimator.tree_.children_left\n",
    "children_right = estimator.tree_.children_right\n",
    "feature = estimator.tree_.feature\n",
    "threshold = estimator.tree_.threshold"
   ]
  },
  {
   "cell_type": "code",
   "execution_count": 55,
   "metadata": {
    "ExecuteTime": {
     "end_time": "2019-01-22T17:15:27.924345Z",
     "start_time": "2019-01-22T17:15:27.916368Z"
    }
   },
   "outputs": [
    {
     "name": "stdout",
     "output_type": "stream",
     "text": [
      "[( 1, 10,  6,  1.30500001e+00, 0.62454086, 85, 132.)\n",
      " ( 2,  3,  8,  4.84999999e-01, 0.27777778, 23,  36.)\n",
      " (-1, -1, -2, -2.00000000e+00, 0.        ,  2,   4.)\n",
      " ( 4,  9,  4,  1.28000000e+02, 0.1171875 , 21,  32.)\n",
      " ( 5,  8,  2,  2.23500001e+00, 0.06243496, 20,  31.)\n",
      " ( 6,  7,  8,  1.43000001e+00, 0.44444444,  2,   3.)\n",
      " (-1, -1, -2, -2.00000000e+00, 0.        ,  1,   2.)\n",
      " (-1, -1, -2, -2.00000000e+00, 0.        ,  1,   1.)\n",
      " (-1, -1, -2, -2.00000000e+00, 0.        , 18,  28.)\n",
      " (-1, -1, -2, -2.00000000e+00, 0.        ,  1,   1.)\n",
      " (11, 12,  9,  3.46000004e+00, 0.47634549, 62,  96.)\n",
      " (-1, -1, -2, -2.00000000e+00, 0.        , 31,  51.)\n",
      " (13, 16,  3,  1.78999996e+01, 0.3545679 , 31,  45.)\n",
      " (14, 15, 11,  2.58500004e+00, 0.18549346, 19,  29.)\n",
      " (-1, -1, -2, -2.00000000e+00, 0.        ,  1,   3.)\n",
      " (-1, -1, -2, -2.00000000e+00, 0.        , 18,  26.)\n",
      " (17, 22, 12,  7.42000000e+02, 0.5390625 , 12,  16.)\n",
      " (18, 19,  0,  1.29000001e+01, 0.24489796,  6,   7.)\n",
      " (-1, -1, -2, -2.00000000e+00, 0.        ,  3,   4.)\n",
      " (20, 21, 10,  7.75000006e-01, 0.44444444,  3,   3.)\n",
      " (-1, -1, -2, -2.00000000e+00, 0.        ,  1,   1.)\n",
      " (-1, -1, -2, -2.00000000e+00, 0.        ,  2,   2.)\n",
      " (-1, -1, -2, -2.00000000e+00, 0.        ,  6,   9.)]\n"
     ]
    }
   ],
   "source": [
    "node_stuff = estimator.tree_.__getstate__()['nodes']\n",
    "print(node_stuff)"
   ]
  },
  {
   "cell_type": "markdown",
   "metadata": {
    "ExecuteTime": {
     "end_time": "2019-01-22T14:31:30.865365Z",
     "start_time": "2019-01-22T14:31:30.853456Z"
    }
   },
   "source": [
    "## Implementing the algorithm in raw code"
   ]
  },
  {
   "cell_type": "code",
   "execution_count": 56,
   "metadata": {
    "ExecuteTime": {
     "end_time": "2019-01-22T17:15:31.877420Z",
     "start_time": "2019-01-22T17:15:31.869497Z"
    }
   },
   "outputs": [
    {
     "name": "stdout",
     "output_type": "stream",
     "text": [
      "3\n",
      "13\n"
     ]
    }
   ],
   "source": [
    "imp_mat = np.zeros((estimator.n_classes_, estimator.n_features_))\n",
    "print(estimator.n_classes_)\n",
    "print(estimator.n_features_)"
   ]
  },
  {
   "cell_type": "code",
   "execution_count": 79,
   "metadata": {
    "ExecuteTime": {
     "end_time": "2019-01-23T12:15:08.206335Z",
     "start_time": "2019-01-23T12:15:08.198356Z"
    }
   },
   "outputs": [
    {
     "name": "stdout",
     "output_type": "stream",
     "text": [
      "[2, 6, 7, 8, 9, 11, 14, 15, 18, 20, 21, 22]\n",
      "13\n"
     ]
    }
   ],
   "source": [
    "leaves = []\n",
    "for i in range(len(node_stuff)):\n",
    "    if node_stuff[i][0] == -1 and node_stuff[i][1] == -1:\n",
    "        leaves.append(i)\n",
    "print(leaves)\n",
    "estimator.tree_.__getstate__()['values'][leaves]\n",
    "print(estimator.tree_.n_features)"
   ]
  },
  {
   "cell_type": "code",
   "execution_count": 74,
   "metadata": {
    "ExecuteTime": {
     "end_time": "2019-01-22T17:21:36.146279Z",
     "start_time": "2019-01-22T17:21:36.134314Z"
    }
   },
   "outputs": [],
   "source": [
    "def findImp(rf_clf, res_panel_features):\n",
    "    importance_matrix = []\n",
    "    k = 0\n",
    "    for dec_tree in rf_clf.estimators_:\n",
    "        k += 1\n",
    "        #print(k)\n",
    "        #print(dec_tree.tree_.__getstate__()['max_depth'])\n",
    "        #dec_tree = rf_clf.estimators_[0]\n",
    "        classes = rf_clf.classes_#np.unique(y)\n",
    "        #print('CHECK:', dec_tree.tree_.n_classes[0]==len(classes))\n",
    "        feature = dec_tree.tree_.feature\n",
    "\n",
    "        n_nodes = dec_tree.tree_.__getstate__()['node_count']\n",
    "        nodes = dec_tree.tree_.__getstate__()['nodes']\n",
    "        parent_node_ind = -np.ones(shape=n_nodes, dtype='<i8')\n",
    "        for par_ind,node in enumerate(nodes):\n",
    "            parent_node_ind[node[0]] = par_ind\n",
    "            parent_node_ind[node[1]] = par_ind\n",
    "\n",
    "        is_leaves = np.array([node[0]==node[1] for node in nodes])# np.zeros(shape=n_nodes, dtype=bool)\n",
    "        #leaves = nodes[is_leaves]\n",
    "        leaves_index = np.nonzero(is_leaves)[0]\n",
    "\n",
    "        leaves_parent = parent_node_ind[is_leaves]\n",
    "\n",
    "        values_sorted = dec_tree.tree_.__getstate__()['values']\n",
    "        node_pred = np.argmax(values_sorted[:,0,:], axis=1)\n",
    "        leaves_class_index = node_pred[is_leaves]\n",
    "        #leaves_class = classes[leaves_class_index]\n",
    "\n",
    "\n",
    "        ###TO BE SANITY-CHECKED\n",
    "        node_unvisited = np.ones((len(classes), n_nodes), dtype=bool)\n",
    "        tree_importances = np.zeros((len(classes),len(res_panel_features)))\n",
    "        for leaf_i,leaf_c_i in zip(leaves_index,leaves_class_index):\n",
    "            parent_i = parent_node_ind[leaf_i]\n",
    "            current_i = leaf_i\n",
    "\n",
    "            while parent_i != -1 and node_unvisited[leaf_c_i,current_i]:\n",
    "                current_node = nodes[current_i]\n",
    "                left_node = nodes[current_node['left_child']]\n",
    "                right_node = nodes[current_node['right_child']]\n",
    "                current_feature = current_node['feature']\n",
    "                tree_importances[leaf_c_i,current_feature] += (\n",
    "                        current_node['weighted_n_node_samples'] * current_node['impurity'] -\n",
    "                        left_node['weighted_n_node_samples'] * left_node['impurity'] -\n",
    "                        right_node['weighted_n_node_samples'] * right_node['impurity']\n",
    "                        )\n",
    "                node_unvisited[leaf_c_i,current_i] = False\n",
    "                current_i = parent_i\n",
    "                parent_i = parent_node_ind[current_i]\n",
    "        importance_matrix.append(tree_importances)\n",
    "    importance_matrix = np.mean(importance_matrix, axis = 0)\n",
    "    return(importance_matrix)"
   ]
  },
  {
   "cell_type": "code",
   "execution_count": 75,
   "metadata": {
    "ExecuteTime": {
     "end_time": "2019-01-22T17:21:38.170337Z",
     "start_time": "2019-01-22T17:21:37.929424Z"
    }
   },
   "outputs": [
    {
     "data": {
      "text/plain": [
       "array([[4.1559087 , 1.16267427, 0.62178312, 2.02382686, 1.46067465,\n",
       "        2.43861931, 4.17477436, 0.76171221, 0.70014437, 4.22024486,\n",
       "        2.10165496, 3.77326578, 5.40415566],\n",
       "       [6.48534737, 2.06440886, 0.90686039, 2.03455351, 1.82306697,\n",
       "        3.37085998, 6.66954286, 1.03871744, 1.26228357, 7.80119449,\n",
       "        4.0308093 , 6.22006514, 8.40488538],\n",
       "       [3.3279314 , 1.51819422, 0.59074105, 1.22262825, 0.73222719,\n",
       "        2.91436828, 5.7242968 , 0.80567284, 1.10071974, 5.40455974,\n",
       "        3.91082257, 6.00445683, 5.46408949]])"
      ]
     },
     "execution_count": 75,
     "metadata": {},
     "output_type": "execute_result"
    }
   ],
   "source": [
    "imp_mat = findImp(rf, feature_names)\n",
    "imp_mat"
   ]
  },
  {
   "cell_type": "code",
   "execution_count": 76,
   "metadata": {
    "ExecuteTime": {
     "end_time": "2019-01-22T17:21:55.412491Z",
     "start_time": "2019-01-22T17:21:55.245933Z"
    }
   },
   "outputs": [
    {
     "data": {
      "text/plain": [
       "<matplotlib.axes._subplots.AxesSubplot at 0x2ac52fd6e10>"
      ]
     },
     "execution_count": 76,
     "metadata": {},
     "output_type": "execute_result"
    },
    {
     "data": {
      "image/png": "[encoded data removed]",
      "text/plain": [
       "<Figure size 432x288 with 2 Axes>"
      ]
     },
     "metadata": {
      "needs_background": "light"
     },
     "output_type": "display_data"
    }
   ],
   "source": [
    "sns.heatmap(imp_mat)"
   ]
  },
  {
   "cell_type": "code",
   "execution_count": null,
   "metadata": {},
   "outputs": [],
   "source": []
  }
 ],
 "metadata": {
  "hide_input": false,
  "kernelspec": {
   "display_name": "Python 3",
   "language": "python",
   "name": "python3"
  },
  "toc": {
   "base_numbering": 1,
   "nav_menu": {},
   "number_sections": true,
   "sideBar": true,
   "skip_h1_title": false,
   "title_cell": "Table of Contents",
   "title_sidebar": "Contents",
   "toc_cell": false,
   "toc_position": {},
   "toc_section_display": true,
   "toc_window_display": false
  },
  "varInspector": {
   "cols": {
    "lenName": 16,
    "lenType": 16,
    "lenVar": 40
   },
   "kernels_config": {
    "python": {
     "delete_cmd_postfix": "",
     "delete_cmd_prefix": "del ",
     "library": "var_list.py",
     "varRefreshCmd": "print(var_dic_list())"
    },
    "r": {
     "delete_cmd_postfix": ") ",
     "delete_cmd_prefix": "rm(",
     "library": "var_list.r",
     "varRefreshCmd": "cat(var_dic_list()) "
    }
   },
   "types_to_exclude": [
    "module",
    "function",
    "builtin_function_or_method",
    "instance",
    "_Feature"
   ],
   "window_display": false
  }
 },
 "nbformat": 4,
 "nbformat_minor": 2
}
